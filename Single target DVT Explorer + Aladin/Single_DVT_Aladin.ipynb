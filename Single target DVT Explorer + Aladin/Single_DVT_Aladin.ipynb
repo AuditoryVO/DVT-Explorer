{
 "cells": [
  {
   "cell_type": "markdown",
   "metadata": {},
   "source": [
    "# DVT Explorer\n",
    "Sonification of star and planet variables from the Transiting Exoplanet Survey Satellite (TESS) stored in Data Validation Time-series (DVT) files. Data: STScI.\n",
    "\n",
    "Data download:https://archive.stsci.edu/missions/tess/tid/ \n",
    "\n",
    "#### ACKNOWLEDGMENT\n",
    "This research includes data collected with the TESS mission, obtained from the MAST data archive at the Space Telescope Science Institute (STScI). Funding for the TESS mission is provided by the NASA Explorer Program and by the NASA Science Mission Directorate. STScI is operated by the Association of Universities for Research in Astronomy, Inc., under NASA contract NAS 5–26555.\n"
   ]
  },
  {
   "cell_type": "code",
   "execution_count": 1,
   "metadata": {},
   "outputs": [],
   "source": [
    "from astropy.io import fits\n",
    "from astropy.timeseries import TimeSeries\n",
    "from astropy.timeseries import BoxLeastSquares\n",
    "from astropy.stats import sigma_clipped_stats\n",
    "from astropy.timeseries import aggregate_downsample\n",
    "from astropy import units as u\n",
    "\n",
    "import numpy as np\n",
    "import matplotlib.pyplot as plt\n",
    "from sklearn.preprocessing import FunctionTransformer\n",
    "\n",
    "import os\n",
    "from pathlib import Path\n",
    "\n",
    "import time\n",
    "from pythonosc import udp_client\n"
   ]
  },
  {
   "cell_type": "code",
   "execution_count": 2,
   "metadata": {},
   "outputs": [],
   "source": [
    "root = '## YOUR FOLDER PATH TO THE DOWNLOADED LIGHTCURVES ##'"
   ]
  },
  {
   "cell_type": "code",
   "execution_count": 3,
   "metadata": {},
   "outputs": [
    {
     "name": "stdout",
     "output_type": "stream",
     "text": [
      "['/Volumes/WORK/DOCTORADO_UPM/ICAD2022/SingleTIC/tess2018235142541-s0002-s0002-0000000055652896-00109_dvt.fits']\n"
     ]
    }
   ],
   "source": [
    "for path, subdirs, files in os.walk(root):\n",
    "    for name in files:\n",
    "        print([os.path.join(path, name)])"
   ]
  },
  {
   "cell_type": "code",
   "execution_count": 4,
   "metadata": {
    "scrolled": true
   },
   "outputs": [
    {
     "data": {
      "text/plain": [
       "1"
      ]
     },
     "execution_count": 4,
     "metadata": {},
     "output_type": "execute_result"
    }
   ],
   "source": [
    "len(files)"
   ]
  },
  {
   "cell_type": "code",
   "execution_count": 5,
   "metadata": {},
   "outputs": [],
   "source": [
    "file = [os.path.join(path, name)]\n",
    "str = \" \" \n",
    "Ffile = (str.join(file))  \n",
    "\n",
    "route = Path(Ffile)\n",
    "\n",
    "Fname = route.with_suffix('')"
   ]
  },
  {
   "cell_type": "code",
   "execution_count": 6,
   "metadata": {},
   "outputs": [],
   "source": [
    "files.sort()"
   ]
  },
  {
   "cell_type": "code",
   "execution_count": 7,
   "metadata": {
    "scrolled": false
   },
   "outputs": [
    {
     "data": {
      "text/plain": [
       "['tess2018235142541-s0002-s0002-0000000055652896-00109_dvt.fits']"
      ]
     },
     "execution_count": 7,
     "metadata": {},
     "output_type": "execute_result"
    }
   ],
   "source": [
    "sample = files[0:10]\n",
    "sample"
   ]
  },
  {
   "cell_type": "code",
   "execution_count": 8,
   "metadata": {
    "scrolled": false
   },
   "outputs": [
    {
     "name": "stdout",
     "output_type": "stream",
     "text": [
      "TIC 55652896\n",
      "Teff = 5025.77001953\n",
      "Metallicity = 0.31632501\n",
      "Radius = 0.71520799\n",
      "Log(g) = 4.6634798\n",
      "Duration = 5.399625875925155\n",
      "Depth = 3438.7793282869966\n",
      "Period = 10.86195221157628\n",
      "Frequency = 920.6448164393835\n",
      "--------------------------\n",
      "Files represented: 1 curves\n"
     ]
    }
   ],
   "source": [
    "curves=0\n",
    "i = 0\n",
    "figure = 0\n",
    "for path, subdirs, files in os.walk(root):\n",
    "    for name in files: \n",
    "        curves=curves+1\n",
    "        file = [os.path.join(path, name)]\n",
    "        str = \" \" \n",
    "        Ffile = (str.join(file))\n",
    "        route = Path(name)\n",
    "        Fname = route.with_suffix('')\n",
    "        Fpng = route.with_suffix('.png')\n",
    "\n",
    "#----------------------------------------------        \n",
    "        dvt_file = Ffile\n",
    "        \n",
    "        with fits.open(dvt_file, mode=\"readonly\") as hdulist:\n",
    "    \n",
    "            Teff = hdulist[0].header['TEFF']\n",
    "            Metal = hdulist[0].header['MH']\n",
    "            Radius = hdulist[0].header['RADIUS']\n",
    "            Logg = hdulist[0].header['LOGG']\n",
    "            Period = hdulist[1].header['TPERIOD'] \n",
    "            Freq = (1/Period)*10000\n",
    "\n",
    "            Duration = hdulist[1].header['TDUR']\n",
    "            Depth = hdulist[1].header['TDEPTH']\n",
    "            \n",
    "            times = hdulist[1].data['TIME']\n",
    "            phases = hdulist[1].data['PHASE']\n",
    "            fluxes_init = hdulist[1].data['LC_INIT']\n",
    "            model_fluxes_init = hdulist[1].data['MODEL_INIT']\n",
    "            \n",
    "        \n",
    "        if Duration >= 8:\n",
    "            figure = 5\n",
    "        if (Duration >= 4) and (Duration < 8):\n",
    "            figure = 4\n",
    "        if (Duration > 2) and (Duration <= 4):\n",
    "            figure = 3\n",
    "        if Duration <= (2):\n",
    "            figure = 2\n",
    "        \n",
    "        \n",
    "        sort_indexes = np.argsort(phases)\n",
    "\n",
    "        fig, ax = plt.subplots(figsize=(12,4))\n",
    "\n",
    "        ax.plot(phases[sort_indexes], fluxes_init[sort_indexes], 'go', markersize=1)\n",
    "\n",
    "        ax.plot(phases[sort_indexes], model_fluxes_init[sort_indexes], '-w')\n",
    "\n",
    "        fig.suptitle(\"{object}. Folded lightcurve and transit model\".format(object= hdulist[0].header['OBJECT']), color = 'w')\n",
    "        \n",
    "        ax.set_ylabel(\"Flux (relative)\")\n",
    "        ax.set_xlabel(\"Orbital Phase\")\n",
    "        ax.xaxis.label.set_color('w')\n",
    "        ax.yaxis.label.set_color('w')\n",
    "        ax.tick_params(axis='x', colors='w')\n",
    "        ax.tick_params(axis='y', colors='w')\n",
    "        ax.spines['bottom'].set_color('w')\n",
    "        ax.spines['top'].set_color('w') \n",
    "        ax.spines['right'].set_color('w')\n",
    "        ax.spines['left'].set_color('w')\n",
    "     \n",
    "        plt.savefig('DVT.png', transparent=True)\n",
    "        \n",
    "        plt.close(fig)\n",
    "      \n",
    "        #---------------Sending OSC\n",
    "        print(hdulist[0].header['OBJECT'])\n",
    "        client_s = udp_client.SimpleUDPClient(\"127.0.0.1\", 9989)\n",
    "        client_s.send_message(\"/s\", 1)\n",
    "\n",
    "        client0 = udp_client.SimpleUDPClient(\"127.0.0.1\", 9990)   \n",
    "        client0.send_message(\"/Teff\", Teff)\n",
    "        print(\"Teff =\", Teff)\n",
    "\n",
    "        client1 = udp_client.SimpleUDPClient(\"127.0.0.1\", 9991) \n",
    "        client1.send_message(\"/Metal\", Metal)\n",
    "        print(\"Metallicity =\", Metal)\n",
    "\n",
    "        client2 = udp_client.SimpleUDPClient(\"127.0.0.1\", 9992) \n",
    "        client2.send_message(\"/Radius\", Radius)\n",
    "        print(\"Radius =\", Radius)\n",
    "\n",
    "        client3 = udp_client.SimpleUDPClient(\"127.0.0.1\", 9993) #Surface gravity\n",
    "        client3.send_message(\"/Logg\", Logg)\n",
    "        print(\"Log(g) =\", Logg)\n",
    "    \n",
    "        client4 = udp_client.SimpleUDPClient(\"127.0.0.1\", 9994) #Duration\n",
    "        client4.send_message(\"/Dur\", Duration)\n",
    "        print(\"Duration =\", Duration)\n",
    "        \n",
    "        client5 = udp_client.SimpleUDPClient(\"127.0.0.1\", 9995) #Amplitude\n",
    "        client5.send_message(\"/Amp\", Depth)\n",
    "        print(\"Depth =\", Depth)\n",
    "        \n",
    "        client6 = udp_client.SimpleUDPClient(\"127.0.0.1\", 9996) \n",
    "        client6.send_message(\"/Freq\", Freq)\n",
    "        print(\"Period =\", Period)\n",
    "        print(\"Frequency =\", Freq)\n",
    "        \n",
    "        print(\"--------------------------\")\n",
    "\n",
    "\n",
    "\n",
    "        i += 1\n",
    "        time.sleep(figure)\n",
    "            \n",
    "print (\"Files represented:\",curves, \"curves\");\n",
    "\n"
   ]
  },
  {
   "cell_type": "markdown",
   "metadata": {},
   "source": [
    "## Adding VO tools and querys"
   ]
  },
  {
   "cell_type": "code",
   "execution_count": 9,
   "metadata": {
    "scrolled": true
   },
   "outputs": [
    {
     "data": {
      "application/vnd.jupyter.widget-view+json": {
       "model_id": "32b20546f510411ea14c4e5f36cc1642",
       "version_major": 2,
       "version_minor": 0
      },
      "text/plain": [
       "Aladin(fov=0.15, options=['allow_full_zoomout', 'coo_frame', 'fov', 'full_screen', 'log', 'overlay_survey', 'o…"
      ]
     },
     "metadata": {},
     "output_type": "display_data"
    }
   ],
   "source": [
    "import ipyaladin.aladin_widget as ipyal\n",
    "\n",
    "aladin = ipyal.Aladin(target= hdulist[0].header['OBJECT'], fov=0.15, survey='P/DSS2/color')\n",
    "aladin"
   ]
  },
  {
   "cell_type": "markdown",
   "metadata": {},
   "source": [
    "https://astroquery.readthedocs.io/en/latest/index.html"
   ]
  },
  {
   "cell_type": "code",
   "execution_count": 10,
   "metadata": {
    "scrolled": true
   },
   "outputs": [
    {
     "name": "stdout",
     "output_type": "stream",
     "text": [
      "MAIN_ID       RA           DEC      ...     COO_BIBCODE     SCRIPT_NUMBER_ID\n",
      "           \"h:m:s\"       \"d:m:s\"    ...                                     \n",
      "------- ------------- ------------- ... ------------------- ----------------\n",
      "TOI-216 04 55 55.2548 -63 15 36.313 ... 2020yCat.1350....0G                1\n"
     ]
    }
   ],
   "source": [
    "from astroquery.simbad import Simbad\n",
    "result_table = Simbad.query_object(hdulist[0].header['OBJECT'])\n",
    "result_table.pprint(show_unit=True)"
   ]
  },
  {
   "cell_type": "code",
   "execution_count": 11,
   "metadata": {},
   "outputs": [
    {
     "name": "stdout",
     "output_type": "stream",
     "text": [
      "TableList with 83 tables:\n",
      "\t'0:I/221/lmc' with 8 column(s) and 3 row(s) \n",
      "\t'1:I/252/out' with 8 column(s) and 39 row(s) \n",
      "\t'2:I/271/out' with 11 column(s) and 21 row(s) \n",
      "\t'3:I/284/out' with 14 column(s) and 50 row(s) \n",
      "\t'4:I/289/out' with 13 column(s) and 3 row(s) \n",
      "\t'5:I/297/out' with 19 column(s) and 50 row(s) \n",
      "\t'6:I/305/out' with 11 column(s) and 28 row(s) \n",
      "\t'7:I/317/sample' with 13 column(s) and 50 row(s) \n",
      "\t'8:I/319/xpm' with 25 column(s) and 13 row(s) \n",
      "\t'9:I/320/spm4' with 21 column(s) and 9 row(s) \n",
      "\t'10:I/322A/out' with 24 column(s) and 5 row(s) \n",
      "\t'11:I/324/igsl3' with 18 column(s) and 50 row(s) \n",
      "\t'12:I/337/gaia' with 14 column(s) and 50 row(s) \n",
      "\t'13:I/339/hsoy' with 18 column(s) and 43 row(s) \n",
      "\t'14:I/340/ucac5' with 20 column(s) and 5 row(s) \n",
      "\t'15:I/345/gaia2' with 32 column(s) and 50 row(s) \n",
      "\t'16:I/347/gaia2dis' with 9 column(s) and 50 row(s) \n",
      "\t'17:I/348/catalog' with 35 column(s) and 1 row(s) \n",
      "\t'18:I/349/starhorse' with 19 column(s) and 11 row(s) \n",
      "\t'19:I/350/gaiaedr3' with 39 column(s) and 50 row(s) \n",
      "\t'20:I/350/comscanl' with 13 column(s) and 2 row(s) \n",
      "\t'21:I/352/gedr3dis' with 10 column(s) and 50 row(s) \n",
      "\t'22:I/353/gsc242' with 35 column(s) and 50 row(s) \n",
      "\t'23:I/354/starhorse2021' with 20 column(s) and 14 row(s) \n",
      "\t'24:I/355/gaiadr3' with 57 column(s) and 50 row(s) \n",
      "\t'25:I/355/paramp' with 24 column(s) and 50 row(s) \n",
      "\t'26:I/355/paramsup' with 24 column(s) and 26 row(s) \n",
      "\t'27:I/355/epphot' with 48 column(s) and 42 row(s) \n",
      "\t'28:I/355/rvsmean' with 9 column(s) and 50 row(s) \n",
      "\t'29:I/355/xpsummary' with 23 column(s) and 12 row(s) \n",
      "\t'30:I/356/galcand' with 10 column(s) and 1 row(s) \n",
      "\t'31:I/356/qsocand' with 10 column(s) and 7 row(s) \n",
      "\t'32:I/358/varisum' with 24 column(s) and 1 row(s) \n",
      "\t'33:I/358/vclassre' with 8 column(s) and 1 row(s) \n",
      "\t'34:I/360/syntphot' with 5 column(s) and 12 row(s) \n",
      "\t'35:II/228A/denisLMC' with 11 column(s) and 11 row(s) \n",
      "\t'36:II/246/out' with 15 column(s) and 14 row(s) \n",
      "\t'37:II/281/2mass6x' with 15 column(s) and 50 row(s) \n",
      "\t'38:II/311/wise' with 22 column(s) and 50 row(s) \n",
      "\t'39:II/312/ais' with 14 column(s) and 10 row(s) \n",
      "\t'40:II/328/allwise' with 28 column(s) and 50 row(s) \n",
      "\t'41:II/336/apass9' with 20 column(s) and 3 row(s) \n",
      "\t'42:II/357/des_dr1' with 22 column(s) and 50 row(s) \n",
      "\t'43:II/358/smss' with 30 column(s) and 31 row(s) \n",
      "\t'44:II/359/vhs_dr4' with 34 column(s) and 50 row(s) \n",
      "\t'45:II/363/unwise' with 11 column(s) and 50 row(s) \n",
      "\t'46:II/365/catwise' with 38 column(s) and 50 row(s) \n",
      "\t'47:II/367/vhs_dr5' with 38 column(s) and 50 row(s) \n",
      "\t'48:II/369/vexasdes' with 26 column(s) and 38 row(s) \n",
      "\t'49:II/369/vexassm' with 31 column(s) and 24 row(s) \n",
      "\t'50:II/371/des_dr2' with 24 column(s) and 50 row(s) \n",
      "\t'51:IV/33/mc2' with 14 column(s) and 23 row(s) \n",
      "\t'52:IV/38/tic' with 48 column(s) and 50 row(s) \n",
      "\t'53:IV/39/tic82' with 48 column(s) and 50 row(s) \n",
      "\t'54:VI/145/attitude' with 18 column(s) and 1 row(s) \n",
      "\t'55:VII/285/gdr2ext' with 7 column(s) and 1 row(s) \n",
      "\t'56:B/eso/eso_arc' with 7 column(s) and 50 row(s) \n",
      "\t'57:B/vsx/vsx' with 19 column(s) and 1 row(s) \n",
      "\t'58:J/ApJ/867/105/refcat2' with 23 column(s) and 30 row(s) \n",
      "\t'59:J/ApJ/874/L8/table2' with 25 column(s) and 1 row(s) \n",
      "\t'60:J/ApJ/890/23/table1' with 32 column(s) and 2 row(s) \n",
      "\t'61:J/ApJS/250/20/table4' with 11 column(s) and 1 row(s) \n",
      "\t'62:J/ApJS/254/39/table2' with 18 column(s) and 2 row(s) \n",
      "\t'63:J/ApJS/255/6/table4' with 20 column(s) and 2 row(s) \n",
      "\t'64:J/A+A/594/A116/nhi_hpx' with 6 column(s) and 2 row(s) \n",
      "\t'65:J/A+A/616/A12/tabled3' with 6 column(s) and 20 row(s) \n",
      "\t'66:J/A+A/630/A135/training' with 12 column(s) and 2 row(s) \n",
      "\t'67:J/A+A/633/A53/tceclass' with 20 column(s) and 8 row(s) \n",
      "\t'68:J/A+A/653/A98/aspic1_1' with 23 column(s) and 1 row(s) \n",
      "\t'69:J/A+A/659/A95/sos' with 12 column(s) and 1 row(s) \n",
      "\t'70:J/AJ/155/39/table5' with 10 column(s) and 1 row(s) \n",
      "\t'71:J/AJ/158/16/table11' with 11 column(s) and 3 row(s) \n",
      "\t'72:J/AJ/158/93/table2' with 5 column(s) and 7 row(s) \n",
      "\t'73:J/AJ/159/19/table6' with 17 column(s) and 1 row(s) \n",
      "\t'74:J/AJ/159/84/table2' with 5 column(s) and 7 row(s) \n",
      "\t'75:J/MNRAS/463/4210/ucac4rpm' with 12 column(s) and 1 row(s) \n",
      "\t'76:J/MNRAS/473/2004/catalog' with 28 column(s) and 1 row(s) \n",
      "\t'77:J/MNRAS/495/2858/lmc2mass' with 11 column(s) and 1 row(s) \n",
      "\t'78:J/MNRAS/500/4849/emigalah' with 10 column(s) and 3 row(s) \n",
      "\t'79:J/MNRAS/506/150/stars' with 43 column(s) and 1 row(s) \n",
      "\t'80:J/MNRAS/506/150/spect' with 43 column(s) and 3 row(s) \n",
      "\t'81:J/MNRAS/507/318/table2' with 15 column(s) and 1 row(s) \n",
      "\t'82:J/other/Nat/586.528/table1' with 15 column(s) and 1 row(s) \n"
     ]
    }
   ],
   "source": [
    "from astroquery.vizier import Vizier\n",
    "result = Vizier.query_object(hdulist[0].header['OBJECT'])\n",
    "print(result)"
   ]
  },
  {
   "cell_type": "code",
   "execution_count": 12,
   "metadata": {},
   "outputs": [
    {
     "name": "stdout",
     "output_type": "stream",
     "text": [
      "TelID       _tab1_6         tExp   Ask     Target     RAJ2000     DEJ2000  \n",
      "               s             s                        \"h:m:s\"     \"d:m:s\"  \n",
      "----- ------------------- ------- ----- ----------- ----------- -----------\n",
      "   20 2018-11-28T02:47:53   900.0 Image     TOI-216 04 55 48.17 -63 14 47.4\n",
      "   20 2018-11-28T05:52:46   900.0 Image     TOI-216 04 55 47.11 -63 14 46.2\n",
      "   30 2018-12-13T05:23:44  1800.0 Image     TOI-216 04 55 54.92 -63 15 45.8\n",
      "   30 2018-12-13T05:54:44  1800.0 Image     TOI-216 04 55 54.88 -63 15 45.0\n",
      "   20 2018-11-27T04:50:09   900.0 Image     TOI-216 04 55 47.13 -63 14 48.0\n",
      "   30 2018-12-12T06:05:29  1800.0 Image     TOI-216 04 55 54.73 -63 15 45.6\n",
      "  ...                 ...     ...   ...         ...         ...         ...\n",
      "   91 2019-01-25T01:57:45     9.0 Image TIC55652896 04 55 54.83 -63 15 42.0\n",
      "   91 2019-01-25T01:58:10     9.0 Image TIC55652896 04 55 55.13 -63 15 42.0\n",
      "   91 2019-01-25T01:58:34     9.0 Image TIC55652896 04 55 55.42 -63 15 42.0\n",
      "   91 2019-01-25T01:58:58     9.0 Image TIC55652896 04 55 55.42 -63 15 40.0\n",
      "   91 2019-01-25T01:59:21     9.0 Image TIC55652896 04 55 55.13 -63 15 40.0\n",
      "   20 2019-03-04T01:48:49  1200.0 Image     TOI-216 04 55 48.42 -63 14 50.3\n",
      "   20 2019-03-05T00:42:56  1200.0 Image     TOI-216 04 55 48.65 -63 14 45.3\n",
      "Length = 50 rows\n"
     ]
    }
   ],
   "source": [
    "interesting_table = result['B/eso/eso_arc']\n",
    "print(interesting_table)"
   ]
  },
  {
   "cell_type": "code",
   "execution_count": 13,
   "metadata": {},
   "outputs": [
    {
     "name": "stdout",
     "output_type": "stream",
     "text": [
      " obsID   obs_collection dataproduct_type ... dataRights calib_level\n",
      "-------- -------------- ---------------- ... ---------- -----------\n",
      "60853722           TESS            image ...     PUBLIC           2\n",
      "60853722           TESS            image ...     PUBLIC           1\n",
      "60847653           TESS            image ...     PUBLIC           2\n",
      "60847653           TESS            image ...     PUBLIC           1\n",
      "60848599           TESS            image ...     PUBLIC           2\n",
      "60848599           TESS            image ...     PUBLIC           1\n",
      "60846776           TESS            image ...     PUBLIC           2\n",
      "     ...            ...              ... ...        ...         ...\n",
      "60899567           TESS            image ...     PUBLIC           1\n",
      "60893483           TESS            image ...     PUBLIC           2\n",
      "60893483           TESS            image ...     PUBLIC           1\n",
      "60885107           TESS            image ...     PUBLIC           2\n",
      "60885107           TESS            image ...     PUBLIC           1\n",
      "60887918           TESS            image ...     PUBLIC           2\n",
      "60887918           TESS            image ...     PUBLIC           1\n",
      "Length = 5054 rows\n"
     ]
    }
   ],
   "source": [
    "from astroquery.mast import Observations\n",
    "\n",
    "obs_table = Observations.query_object(hdulist[0].header['OBJECT'],radius=\".02 deg\")\n",
    "data_products_by_obs = Observations.get_product_list(obs_table[0:2])\n",
    "print(data_products_by_obs)  "
   ]
  },
  {
   "cell_type": "markdown",
   "metadata": {},
   "source": [
    "Stop"
   ]
  },
  {
   "cell_type": "code",
   "execution_count": 14,
   "metadata": {},
   "outputs": [],
   "source": [
    "client_s.send_message(\"/s\", 0)\n",
    "client0.send_message(\"/Teff\", 0)\n",
    "client1.send_message(\"/Metal\", 0)\n",
    "client2.send_message(\"/Radius\", 0)\n",
    "client3.send_message(\"/Logg\",0)\n",
    "client4.send_message(\"/Dur\", 0)\n",
    "client5.send_message(\"/Amp\", 0)\n",
    "client6.send_message(\"/Freq\", 0)\n"
   ]
  },
  {
   "cell_type": "code",
   "execution_count": 1,
   "metadata": {},
   "outputs": [
    {
     "data": {
      "text/html": [
       "<details>\n",
       "<summary>Click to view session information</summary>\n",
       "<pre>\n",
       "-----\n",
       "session_info        1.0.0\n",
       "-----\n",
       "</pre>\n",
       "<details>\n",
       "<summary>Click to view modules imported as dependencies</summary>\n",
       "<pre>\n",
       "CoreFoundation              NA\n",
       "Foundation                  NA\n",
       "PyObjCTools                 NA\n",
       "anyio                       NA\n",
       "appnope                     0.1.2\n",
       "arrow                       1.2.3\n",
       "asttokens                   NA\n",
       "attr                        23.1.0\n",
       "attrs                       23.1.0\n",
       "babel                       2.12.1\n",
       "backcall                    0.2.0\n",
       "brotli                      NA\n",
       "certifi                     2022.09.24\n",
       "chardet                     4.0.0\n",
       "charset_normalizer          2.0.4\n",
       "colorama                    0.4.5\n",
       "cython_runtime              NA\n",
       "dateutil                    2.8.2\n",
       "debugpy                     1.5.1\n",
       "decorator                   5.1.1\n",
       "entrypoints                 0.4\n",
       "executing                   0.8.3\n",
       "fastjsonschema              NA\n",
       "fqdn                        NA\n",
       "google                      NA\n",
       "idna                        3.3\n",
       "importlib_metadata          NA\n",
       "importlib_resources         NA\n",
       "ipykernel                   6.9.1\n",
       "ipython_genutils            0.2.0\n",
       "isoduration                 NA\n",
       "jedi                        0.17.1\n",
       "jinja2                      3.1.2\n",
       "json5                       NA\n",
       "jsonpointer                 2.4\n",
       "jsonschema                  4.18.6\n",
       "jsonschema_specifications   NA\n",
       "jupyter_server              1.24.0\n",
       "jupyterlab_server           2.24.0\n",
       "markupsafe                  2.0.1\n",
       "mkl                         2.4.0\n",
       "mpl_toolkits                NA\n",
       "nbformat                    5.3.0\n",
       "numpy                       1.22.3\n",
       "objc                        9.2\n",
       "packaging                   21.3\n",
       "parso                       0.7.0\n",
       "pexpect                     4.8.0\n",
       "pickleshare                 0.7.5\n",
       "pkg_resources               NA\n",
       "platformdirs                3.10.0\n",
       "prometheus_client           NA\n",
       "prompt_toolkit              3.0.20\n",
       "psutil                      5.9.0\n",
       "ptyprocess                  0.7.0\n",
       "pure_eval                   0.2.2\n",
       "pydev_ipython               NA\n",
       "pydevconsole                NA\n",
       "pydevd                      2.6.0\n",
       "pydevd_concurrency_analyser NA\n",
       "pydevd_file_utils           NA\n",
       "pydevd_plugins              NA\n",
       "pydevd_tracing              NA\n",
       "pygments                    2.15.1\n",
       "referencing                 NA\n",
       "requests                    2.28.0\n",
       "rfc3339_validator           0.1.4\n",
       "rfc3986_validator           0.1.1\n",
       "rpds                        NA\n",
       "send2trash                  NA\n",
       "setuptools                  67.8.0\n",
       "six                         1.16.0\n",
       "sniffio                     1.2.0\n",
       "socks                       1.7.1\n",
       "sphinxcontrib               NA\n",
       "stack_data                  0.2.0\n",
       "stsci                       NA\n",
       "terminado                   0.13.1\n",
       "tornado                     6.3.2\n",
       "traitlets                   5.9.0\n",
       "uri_template                NA\n",
       "urllib3                     1.26.9\n",
       "wcwidth                     0.2.5\n",
       "webcolors                   1.11.1\n",
       "websocket                   0.58.0\n",
       "zipp                        NA\n",
       "zmq                         25.1.0\n",
       "zope                        NA\n",
       "</pre>\n",
       "</details> <!-- seems like this ends pre, so might as well be explicit -->\n",
       "<pre>\n",
       "-----\n",
       "IPython             8.4.0\n",
       "jupyter_client      7.2.2\n",
       "jupyter_core        5.3.1\n",
       "jupyterlab          3.6.5\n",
       "notebook            6.4.11\n",
       "-----\n",
       "Python 3.8.5 (default, Sep  4 2020, 02:22:02) [Clang 10.0.0 ]\n",
       "macOS-10.15.7-x86_64-i386-64bit\n",
       "-----\n",
       "Session information updated at 2023-09-07 22:34\n",
       "</pre>\n",
       "</details>"
      ],
      "text/plain": [
       "<IPython.core.display.HTML object>"
      ]
     },
     "execution_count": 1,
     "metadata": {},
     "output_type": "execute_result"
    }
   ],
   "source": [
    "import session_info\n",
    "session_info.show()"
   ]
  }
 ],
 "metadata": {
  "kernelspec": {
   "display_name": "Python 3 (ipykernel)",
   "language": "python",
   "name": "python3"
  },
  "language_info": {
   "codemirror_mode": {
    "name": "ipython",
    "version": 3
   },
   "file_extension": ".py",
   "mimetype": "text/x-python",
   "name": "python",
   "nbconvert_exporter": "python",
   "pygments_lexer": "ipython3",
   "version": "3.8.5"
  }
 },
 "nbformat": 4,
 "nbformat_minor": 4
}
